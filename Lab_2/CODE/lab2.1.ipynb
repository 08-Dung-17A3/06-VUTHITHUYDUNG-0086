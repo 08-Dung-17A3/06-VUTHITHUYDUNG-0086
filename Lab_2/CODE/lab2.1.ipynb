{
 "cells": [
  {
   "cell_type": "markdown",
   "metadata": {},
   "source": [
    "CÂU 1:"
   ]
  },
  {
   "cell_type": "code",
   "execution_count": 1,
   "metadata": {},
   "outputs": [
    {
     "name": "stdout",
     "output_type": "stream",
     "text": [
      "nhiệt độ trong tháng: \n",
      " [24.73 20.76 25.72 12.87 28.39 11.89 26.94 11.51 16.91 23.03 10.17 24.52\n",
      " 28.2  26.84 29.33 15.76 16.49 16.23 28.12 28.44 29.68 17.15 25.25 29.94\n",
      " 21.22 25.81 15.09 10.79 25.6  12.48]\n",
      "trung bình nhiệt độ trong tháng là: 21.328666666666667\n"
     ]
    }
   ],
   "source": [
    "import numpy as np\n",
    "# tạo mảng mô phỏng dữ liệu nhiệt độ hàng ngày trong một tháng với số thực\n",
    "# nhiệt độ trong khoảng từ 10.0 đến 30.0 độ C\n",
    "nhiet_do = np.round(np.random.uniform(10.0, 30.0, size=30),2)\n",
    "print(\"nhiệt độ trong tháng: \\n\", nhiet_do)\n",
    "print('trung bình nhiệt độ trong tháng là:',np.mean(nhiet_do))"
   ]
  },
  {
   "cell_type": "markdown",
   "metadata": {},
   "source": [
    "Ý 2 câu 1 :\n"
   ]
  },
  {
   "cell_type": "code",
   "execution_count": 2,
   "metadata": {},
   "outputs": [
    {
     "name": "stdout",
     "output_type": "stream",
     "text": [
      "nhiệt độ cao nhất là: 29.94\n",
      "nhiệt độ thấp nhất là: 10.17\n",
      "nhiệt độ ngày cao nhất trong tháng là: 29.94\n",
      "ngày có nhiệt độ cao nhất là ngày thứ: 24\n"
     ]
    }
   ],
   "source": [
    "max_temp = np.max(nhiet_do)\n",
    "print(\"nhiệt độ cao nhất là:\",max_temp)\n",
    "min_temp = np.min(nhiet_do)\n",
    "print(\"nhiệt độ thấp nhất là:\",min_temp)\n",
    "day_max_temp = np.argmax(nhiet_do) + 1\n",
    "print(f'nhiệt độ ngày cao nhất trong tháng là:',max_temp)\n",
    "day_min_temp = np.argmax(nhiet_do) + 1\n",
    "print(f'ngày có nhiệt độ cao nhất là ngày thứ:',day_max_temp)"
   ]
  },
  {
   "cell_type": "markdown",
   "metadata": {},
   "source": [
    "Ý 3 Câu 1:"
   ]
  },
  {
   "cell_type": "code",
   "execution_count": 3,
   "metadata": {},
   "outputs": [
    {
     "name": "stdout",
     "output_type": "stream",
     "text": [
      "chênh lệch nhiệt độ cao nhất là:  -16.5\n",
      "ngày chênh lệch cao nhất 5\n"
     ]
    }
   ],
   "source": [
    "#Tạo mảng chứa nhiệt độ của ngày hôm trước(trừ ngày cuối cùng)\n",
    "ngay_truoc = nhiet_do[:-1]\n",
    "#Tạo mảng chứa nhiệt độ của ngày hôm sau(trừ ngày đầu tiên)\n",
    "ngay_sau = nhiet_do[1:]\n",
    "# tính toán chênh lệch nhiệt độ giữa ngày hôm sau và ngày hôm nay\n",
    "chenh_lech = ngay_sau - ngay_truoc\n",
    "# xác định ngày có sự chênh lệch nhiệt độ lớn nhất \n",
    "dff_max = np.argmax(np.abs(chenh_lech)) + 1\n",
    "max_chenh_lech = chenh_lech[dff_max -1]\n",
    "print(\"chênh lệch nhiệt độ cao nhất là: \", max_chenh_lech)\n",
    "print(\"ngày chênh lệch cao nhất\",dff_max)"
   ]
  },
  {
   "cell_type": "markdown",
   "metadata": {},
   "source": [
    "CÂU 3:\n"
   ]
  },
  {
   "cell_type": "code",
   "execution_count": 4,
   "metadata": {},
   "outputs": [
    {
     "data": {
      "text/plain": [
       "array([ 1,  2,  3,  5,  7, 10, 12, 13, 14, 15, 19, 20, 21, 23, 24, 25, 26,\n",
       "       29], dtype=int64)"
      ]
     },
     "execution_count": 4,
     "metadata": {},
     "output_type": "execute_result"
    }
   ],
   "source": [
    "# kiểm tra điều kiện nhiệt độ cao hơn 20 độ C \n",
    "condition = nhiet_do > 20\n",
    "# sử dụng np.where để tìm chỉ số của các phần từ thỏa mãn điều kiện\n",
    "indices = np.where(condition)\n",
    "# lấy chỉ số đầu tiên ( vì np.where  trả về tuple)\n",
    "day_indices = indices[0]\n",
    "# chỉnh chỉ số để phù hợp với đánh số ngày( bắt đầu từ 1 chứ kphai 0)\n",
    "days_above_20_separated = day_indices +1\n",
    "days_above_20_separated"
   ]
  },
  {
   "cell_type": "code",
   "execution_count": 5,
   "metadata": {},
   "outputs": [
    {
     "data": {
      "text/plain": [
       "(array([ 0,  1,  2,  4,  6,  9, 11, 12, 13, 14, 18, 19, 20, 22, 23, 24, 25,\n",
       "        28], dtype=int64),)"
      ]
     },
     "execution_count": 5,
     "metadata": {},
     "output_type": "execute_result"
    }
   ],
   "source": [
    "indices"
   ]
  },
  {
   "cell_type": "code",
   "execution_count": 6,
   "metadata": {},
   "outputs": [
    {
     "name": "stdout",
     "output_type": "stream",
     "text": [
      "nhiệt độ các ngày 5,10,15,20 và 25 : [28.39 23.03 29.33 28.44 21.22]\n"
     ]
    }
   ],
   "source": [
    "# lấy nhiệt độ của 5,10,15,20 và 25\n",
    "# tạo mảng chỉ số tương ứng cho các ngày 5,10,15,20 và 25\n",
    "indices = np.array([4,9,14,19,24]) # chỉ lấy trong numpy bắt đầu từ 0\n",
    "# lấy nhiệt độ của các ngày cụ thể \n",
    "selected_temps = nhiet_do[indices]\n",
    "# hiển thị kết quả\n",
    "print(\"nhiệt độ các ngày 5,10,15,20 và 25 :\",selected_temps)\n"
   ]
  },
  {
   "cell_type": "code",
   "execution_count": 7,
   "metadata": {},
   "outputs": [
    {
     "name": "stdout",
     "output_type": "stream",
     "text": [
      "nhiệt độ trung bình: 21.328666666666667\n",
      " nhiệt độ các ngày trên trung bình  [24.73 25.72 28.39 26.94 23.03 24.52 28.2  26.84 29.33 28.12 28.44 29.68\n",
      " 25.25 29.94 25.81 25.6 ]\n"
     ]
    }
   ],
   "source": [
    "temp_tb = np.mean(nhiet_do)\n",
    "# lọc nhiệt độ lớn hơn trung bình\n",
    "above_average_temps = nhiet_do[nhiet_do > temp_tb]\n",
    "# hiển thị kết quả :\n",
    "print(\"nhiệt độ trung bình:\",temp_tb)\n",
    "print(\" nhiệt độ các ngày trên trung bình \",above_average_temps)"
   ]
  },
  {
   "cell_type": "code",
   "execution_count": 8,
   "metadata": {},
   "outputs": [
    {
     "name": "stdout",
     "output_type": "stream",
     "text": [
      "nhiệt độ các ngày lẻ : [24.73 25.72 28.39 26.94 16.91 10.17 28.2  29.33 16.49 28.12 29.68 25.25\n",
      " 21.22 15.09 25.6 ]\n",
      "nhiệt độ các ngày chẵn: [20.76 12.87 11.89 11.51 23.03 24.52 26.84 15.76 16.23 28.44 17.15 29.94\n",
      " 25.81 10.79 12.48]\n"
     ]
    }
   ],
   "source": [
    "# chỉ số các ngày lẻ( ngày 1,3,5,... tương đương với index 0,2,4...)\n",
    "odd_indices = np.arange(0,len(nhiet_do),2)  # step =2\n",
    "# chỉ số của các ngày chẵn ( ngày 2,4,6,....tương ứng với index 1,3,5)\n",
    "even_indices = np.arange(1, len(nhiet_do),2) # step = 2\n",
    "# lấy nhiệt độ của các ngày lẻ và chẵn bằng fancy indexing\n",
    "odd_days_temps = nhiet_do[odd_indices]\n",
    "even_days_temps = nhiet_do[even_indices]\n",
    "print(\"nhiệt độ các ngày lẻ :\",odd_days_temps)\n",
    "print('nhiệt độ các ngày chẵn:',even_days_temps)"
   ]
  },
  {
   "cell_type": "markdown",
   "metadata": {},
   "source": []
  }
 ],
 "metadata": {
  "kernelspec": {
   "display_name": "Python 3",
   "language": "python",
   "name": "python3"
  },
  "language_info": {
   "codemirror_mode": {
    "name": "ipython",
    "version": 3
   },
   "file_extension": ".py",
   "mimetype": "text/x-python",
   "name": "python",
   "nbconvert_exporter": "python",
   "pygments_lexer": "ipython3",
   "version": "3.11.9"
  }
 },
 "nbformat": 4,
 "nbformat_minor": 2
}
